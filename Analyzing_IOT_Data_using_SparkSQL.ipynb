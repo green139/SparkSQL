{
  "cells": [
    {
      "cell_type": "markdown",
      "metadata": {
        "id": "view-in-github",
        "colab_type": "text"
      },
      "source": [
        "<a href=\"https://colab.research.google.com/github/green139/SparkSQL/blob/main/Analyzing_IOT_Data_using_SparkSQL.ipynb\" target=\"_parent\"><img src=\"https://colab.research.google.com/assets/colab-badge.svg\" alt=\"Open In Colab\"/></a>"
      ]
    },
    {
      "cell_type": "code",
      "execution_count": 1,
      "id": "1e6b0cf1",
      "metadata": {
        "colab": {
          "base_uri": "https://localhost:8080/"
        },
        "id": "1e6b0cf1",
        "outputId": "6d6e5264-383e-4718-b450-91bfba0034dc"
      },
      "outputs": [
        {
          "output_type": "stream",
          "name": "stdout",
          "text": [
            "Collecting findspark\n",
            "  Downloading findspark-2.0.1-py2.py3-none-any.whl (4.4 kB)\n",
            "Installing collected packages: findspark\n",
            "Successfully installed findspark-2.0.1\n"
          ]
        }
      ],
      "source": [
        "# Installing findspark\n",
        "%pip install findspark\n",
        "#Project to analyze the IoT data using SparkSQL - Mamta\n",
        ""
      ]
    },
    {
      "cell_type": "code",
      "source": [
        "# Mounting Google Drive\n",
        "from google.colab import drive\n",
        "drive.mount('/content/drive')"
      ],
      "metadata": {
        "colab": {
          "base_uri": "https://localhost:8080/"
        },
        "id": "A6mpCWtYrAE5",
        "outputId": "075e8221-1cdc-4a40-bc3f-c6b31a49f4f5"
      },
      "id": "A6mpCWtYrAE5",
      "execution_count": 2,
      "outputs": [
        {
          "output_type": "stream",
          "name": "stdout",
          "text": [
            "Mounted at /content/drive\n"
          ]
        }
      ]
    },
    {
      "cell_type": "code",
      "execution_count": 3,
      "id": "45a689f6",
      "metadata": {
        "colab": {
          "base_uri": "https://localhost:8080/"
        },
        "id": "45a689f6",
        "outputId": "da230c68-b818-418f-90fe-83c13d708118"
      },
      "outputs": [
        {
          "output_type": "stream",
          "name": "stdout",
          "text": [
            "Collecting pyspark\n",
            "  Downloading pyspark-3.5.1.tar.gz (317.0 MB)\n",
            "\u001b[2K     \u001b[90m━━━━━━━━━━━━━━━━━━━━━━━━━━━━━━━━━━━━━━━━\u001b[0m \u001b[32m317.0/317.0 MB\u001b[0m \u001b[31m1.6 MB/s\u001b[0m eta \u001b[36m0:00:00\u001b[0m\n",
            "\u001b[?25h  Preparing metadata (setup.py) ... \u001b[?25l\u001b[?25hdone\n",
            "Requirement already satisfied: py4j==0.10.9.7 in /usr/local/lib/python3.10/dist-packages (from pyspark) (0.10.9.7)\n",
            "Building wheels for collected packages: pyspark\n",
            "  Building wheel for pyspark (setup.py) ... \u001b[?25l\u001b[?25hdone\n",
            "  Created wheel for pyspark: filename=pyspark-3.5.1-py2.py3-none-any.whl size=317488491 sha256=dc8f2a2f4fbca1db1ba9556525fe0549934e6277fed8c2d6aa6370a4e2bd454a\n",
            "  Stored in directory: /root/.cache/pip/wheels/80/1d/60/2c256ed38dddce2fdd93be545214a63e02fbd8d74fb0b7f3a6\n",
            "Successfully built pyspark\n",
            "Installing collected packages: pyspark\n",
            "Successfully installed pyspark-3.5.1\n"
          ]
        }
      ],
      "source": [
        "# Installing pyspark\n",
        "%pip install pyspark"
      ]
    },
    {
      "cell_type": "code",
      "execution_count": 4,
      "id": "20279df0",
      "metadata": {
        "colab": {
          "base_uri": "https://localhost:8080/"
        },
        "id": "20279df0",
        "outputId": "c541c53f-4c5c-4341-a0b4-c704e43849d6"
      },
      "outputs": [
        {
          "output_type": "stream",
          "name": "stdout",
          "text": [
            "Collecting install-jdk\n",
            "  Downloading install_jdk-1.1.0-py3-none-any.whl (15 kB)\n",
            "Installing collected packages: install-jdk\n",
            "Successfully installed install-jdk-1.1.0\n"
          ]
        }
      ],
      "source": [
        "#Installing JDK on Windows\n",
        "!pip install install-jdk\n"
      ]
    },
    {
      "cell_type": "code",
      "execution_count": 5,
      "id": "d700e618",
      "metadata": {
        "colab": {
          "base_uri": "https://localhost:8080/"
        },
        "id": "d700e618",
        "outputId": "f7c2c038-5f2a-4ce9-8b70-406561fabf72"
      },
      "outputs": [
        {
          "output_type": "stream",
          "name": "stdout",
          "text": [
            "<!doctype html>\n",
            "<html>\n",
            "<head>\n",
            "    <title>Example Domain</title>\n",
            "\n",
            "    <meta charset=\"utf-8\" />\n",
            "    <meta http-equiv=\"Content-type\" content=\"text/html; charset=utf-8\" />\n",
            "    <meta name=\"viewport\" content=\"width=device-width, initial-scale=1\" />\n",
            "    <style type=\"text/css\">\n",
            "    body {\n",
            "        background-color: #f0f0f2;\n",
            "        margin: 0;\n",
            "        padding: 0;\n",
            "        font-family: -apple-system, system-ui, BlinkMacSystemFont, \"Segoe UI\", \"Open Sans\", \"Helvetica Neue\", Helvetica, Arial, sans-serif;\n",
            "        \n",
            "    }\n",
            "    div {\n",
            "        width: 600px;\n",
            "        margin: 5em auto;\n",
            "        padding: 2em;\n",
            "        background-color: #fdfdff;\n",
            "        border-radius: 0.5em;\n",
            "        box-shadow: 2px 3px 7px 2px rgba(0,0,0,0.02);\n",
            "    }\n",
            "    a:link, a:visited {\n",
            "        color: #38488f;\n",
            "        text-decoration: none;\n",
            "    }\n",
            "    @media (max-width: 700px) {\n",
            "        div {\n",
            "            margin: 0 auto;\n",
            "            width: auto;\n",
            "        }\n",
            "    }\n",
            "    </style>    \n",
            "</head>\n",
            "\n",
            "<body>\n",
            "<div>\n",
            "    <h1>Example Domain</h1>\n",
            "    <p>This domain is for use in illustrative examples in documents. You may use this\n",
            "    domain in literature without prior coordination or asking for permission.</p>\n",
            "    <p><a href=\"https://www.iana.org/domains/example\">More information...</a></p>\n",
            "</div>\n",
            "</body>\n",
            "</html>\n",
            "\n"
          ]
        }
      ],
      "source": [
        "#Disable SSL/TLS certificate validation to avoid conflicts arising from the jdk install\n",
        "\n",
        "import ssl\n",
        "import urllib.request\n",
        "\n",
        "def disable_ssl_cert_validation():\n",
        "    # Create a custom SSL context\n",
        "    context = ssl.create_default_context()\n",
        "\n",
        "    # Disable certificate verification\n",
        "    context.check_hostname = False\n",
        "    context.verify_mode = ssl.CERT_NONE\n",
        "\n",
        "    # Install the custom SSL context as the default for urllib.request\n",
        "    urllib.request.install_opener(urllib.request.build_opener(urllib.request.HTTPSHandler(context=context)))\n",
        "\n",
        "def main():\n",
        "    disable_ssl_cert_validation()\n",
        "\n",
        "    # Your code that makes HTTPS requests goes here\n",
        "    url = \"https://example.com\"\n",
        "    with urllib.request.urlopen(url) as response:\n",
        "        print(response.read().decode())\n",
        "\n",
        "if __name__ == \"__main__\":\n",
        "    main()\n",
        "\n"
      ]
    },
    {
      "cell_type": "code",
      "execution_count": 6,
      "id": "47fc4551",
      "metadata": {
        "colab": {
          "base_uri": "https://localhost:8080/",
          "height": 35
        },
        "id": "47fc4551",
        "outputId": "34d8937d-5e17-43bf-dbb6-279481f83274"
      },
      "outputs": [
        {
          "output_type": "execute_result",
          "data": {
            "text/plain": [
              "'/root/.jdk/jdk-11.0.23+9'"
            ],
            "application/vnd.google.colaboratory.intrinsic+json": {
              "type": "string"
            }
          },
          "metadata": {},
          "execution_count": 6
        }
      ],
      "source": [
        "import jdk\n",
        "jdk.install('11')"
      ]
    },
    {
      "cell_type": "code",
      "execution_count": 7,
      "id": "e2cda5ea",
      "metadata": {
        "id": "e2cda5ea"
      },
      "outputs": [],
      "source": [
        "#Downloaded openjdk 11 from Openlogic and set the environment variables path correctly"
      ]
    },
    {
      "cell_type": "code",
      "execution_count": 8,
      "id": "98907111",
      "metadata": {
        "id": "98907111"
      },
      "outputs": [],
      "source": [
        "import findspark\n",
        "findspark.init()"
      ]
    },
    {
      "cell_type": "code",
      "execution_count": 9,
      "id": "63f077f2",
      "metadata": {
        "colab": {
          "base_uri": "https://localhost:8080/"
        },
        "id": "63f077f2",
        "outputId": "3efc9739-535c-4632-dbec-4072ca99503f"
      },
      "outputs": [
        {
          "output_type": "stream",
          "name": "stdout",
          "text": [
            "+----+---+\n",
            "|Name|Age|\n",
            "+----+---+\n",
            "|John| 25|\n",
            "|Anna| 30|\n",
            "|Mike| 35|\n",
            "+----+---+\n",
            "\n"
          ]
        }
      ],
      "source": [
        "from pyspark.sql import SparkSession\n",
        "\n",
        "# Initialize Spark session\n",
        "spark = SparkSession.builder \\\n",
        "    .appName(\"Spark Check\") \\\n",
        "    .master(\"local[*]\") \\\n",
        "    .getOrCreate()\n",
        "\n",
        "# Create a simple sample DataFrame to test\n",
        "data = [(\"John\", 25), (\"Anna\", 30), (\"Mike\", 35)]\n",
        "columns = [\"Name\", \"Age\"]\n",
        "df = spark.createDataFrame(data, columns)\n",
        "\n",
        "# Show the DataFrame\n",
        "df.show()\n",
        "\n",
        "# Stop the Spark session\n",
        "spark.stop()\n"
      ]
    },
    {
      "cell_type": "markdown",
      "source": [
        "# New Section"
      ],
      "metadata": {
        "id": "O1R6dtAiVo62"
      },
      "id": "O1R6dtAiVo62"
    },
    {
      "cell_type": "markdown",
      "source": [
        "# New Section"
      ],
      "metadata": {
        "id": "PVnb-AScVJvn"
      },
      "id": "PVnb-AScVJvn"
    },
    {
      "source": [
        "# Import necessary libraries\n",
        "import pyspark.sql.functions as pyf\n",
        "from pyspark.sql import DataFrame,SparkSession\n",
        "\n",
        "# Stop any existing SparkSession to avoid conflicts\n",
        "try:\n",
        "    spark.stop()\n",
        "except:\n",
        "    pass\n",
        "\n",
        "# Create a new SparkSession\n",
        "spark = SparkSession.builder.master(\"local[*]\").appName(\"House Price Prediction\").getOrCreate()\n",
        "\n",
        "# Verify file exists\n",
        "file_location= \"/content/iot_devices (2).json\"\n",
        "#!ls {file_location}\n",
        "\n",
        "# Load your data (replace with your actual data loading code)\n",
        "df = spark.read.json(file_location)\n",
        "\n",
        "# Now try to perform operations on the DataFrame\n",
        "print((df.distinct().count(), len(df.columns)))"
      ],
      "cell_type": "code",
      "metadata": {
        "colab": {
          "base_uri": "https://localhost:8080/"
        },
        "id": "05_Of8AnqFeo",
        "outputId": "493166f2-1383-4294-bce2-e01ea8514909"
      },
      "id": "05_Of8AnqFeo",
      "execution_count": 15,
      "outputs": [
        {
          "output_type": "stream",
          "name": "stdout",
          "text": [
            "(96741, 16)\n"
          ]
        }
      ]
    },
    {
      "cell_type": "code",
      "execution_count": 16,
      "id": "96ab889f",
      "metadata": {
        "colab": {
          "base_uri": "https://localhost:8080/"
        },
        "id": "96ab889f",
        "outputId": "3a2b2ddb-ebe4-42ef-fe47-346b26205023"
      },
      "outputs": [
        {
          "output_type": "stream",
          "name": "stdout",
          "text": [
            "+---------------+-------------+---------+----+----+-------------+---------+--------------------+--------+---------------+--------+------+---------+-------+----+-------------+\n",
            "|_corrupt_record|battery_level|c02_level|cca2|cca3|           cn|device_id|         device_name|humidity|             ip|latitude|   lcd|longitude|  scale|temp|    timestamp|\n",
            "+---------------+-------------+---------+----+----+-------------+---------+--------------------+--------+---------------+--------+------+---------+-------+----+-------------+\n",
            "|           NULL|            8|      868|  US| USA|United States|        1|meter-gauge-1xbYRYcj|      51|   68.161.225.1|    38.0| green|    -97.0|Celsius|  34|1458444054093|\n",
            "|           NULL|            7|     1473|  NO| NOR|       Norway|        2|   sensor-pad-2n2Pea|      70|  213.161.254.1|   62.47|   red|     6.15|Celsius|  11|1458444054119|\n",
            "|           NULL|            2|     1556|  IT| ITA|        Italy|        3| device-mac-36TWSKiT|      44|      88.36.5.1|   42.83|   red|    12.83|Celsius|  19|1458444054120|\n",
            "|           NULL|            6|     1080|  US| USA|United States|        4|   sensor-pad-4mzWkz|      32|  66.39.173.154|   44.06|yellow|  -121.32|Celsius|  28|1458444054121|\n",
            "|           NULL|            4|      931|  PH| PHL|  Philippines|        5|therm-stick-5gimp...|      62|    203.82.41.9|   14.58| green|   120.97|Celsius|  25|1458444054122|\n",
            "|           NULL|            3|     1210|  US| USA|United States|        6|sensor-pad-6al7RT...|      51| 204.116.105.67|   35.93|yellow|   -85.46|Celsius|  27|1458444054122|\n",
            "|           NULL|            3|     1129|  CN| CHN|        China|        7|meter-gauge-7GeDoanM|      26|  220.173.179.1|   22.82|yellow|   108.32|Celsius|  18|1458444054123|\n",
            "|           NULL|            0|     1536|  JP| JPN|        Japan|        8|sensor-pad-8xUD6p...|      35|  210.173.177.1|   35.69|   red|   139.69|Celsius|  27|1458444054123|\n",
            "|           NULL|            3|      807|  JP| JPN|        Japan|        9| device-mac-9GcjZ2pw|      85|  118.23.68.227|   35.69| green|   139.69|Celsius|  13|1458444054124|\n",
            "|           NULL|            7|     1470|  US| USA|United States|       10|sensor-pad-10Bsyw...|      56|208.109.163.218|   33.61|   red|  -111.89|Celsius|  26|1458444054125|\n",
            "|           NULL|            3|     1544|  IT| ITA|        Italy|       11|meter-gauge-11dlM...|      85|  88.213.191.34|   42.83|   red|    12.83|Celsius|  16|1458444054125|\n",
            "|           NULL|            0|     1260|  US| USA|United States|       12|sensor-pad-12Y2kIm0o|      92|    68.28.91.22|    38.0|yellow|    -97.0|Celsius|  12|1458444054126|\n",
            "|           NULL|            6|     1007|  IN| IND|        India|       13|meter-gauge-13Gro...|      92| 59.144.114.250|    28.6|yellow|     77.2|Celsius|  13|1458444054127|\n",
            "|           NULL|            1|     1346|  NO| NOR|       Norway|       14|sensor-pad-14QL93...|      90| 193.156.90.200|   59.95|yellow|    10.75|Celsius|  16|1458444054127|\n",
            "|           NULL|            9|     1259|  US| USA|United States|       15|  device-mac-15se6mZ|      70|    67.185.72.1|   47.41|yellow|   -122.0|Celsius|  13|1458444054128|\n",
            "|           NULL|            4|     1425|  US| USA|United States|       16|sensor-pad-16aXmI...|      53|   68.85.85.106|    38.0|   red|    -97.0|Celsius|  15|1458444054128|\n",
            "|           NULL|            0|     1466|  US| USA|United States|       17|meter-gauge-17zb8...|      98|161.188.212.254|   39.95|   red|   -75.16|Celsius|  31|1458444054129|\n",
            "|           NULL|            4|     1096|  CN| CHN|        China|       18|sensor-pad-18XULN9Xv|      25|  221.3.128.242|   25.04|yellow|   102.72|Celsius|  31|1458444054130|\n",
            "|           NULL|            9|     1531|  US| USA|United States|       19|meter-gauge-19eg1...|      75| 64.124.180.215|    38.0|   red|    -97.0|Celsius|  29|1458444054130|\n",
            "|           NULL|            7|     1155|  US| USA|United States|       20|sensor-pad-20gFNf...|      33|  66.153.162.66|   33.94|yellow|   -78.92|Celsius|  10|1458444054131|\n",
            "+---------------+-------------+---------+----+----+-------------+---------+--------------------+--------+---------------+--------+------+---------+-------+----+-------------+\n",
            "only showing top 20 rows\n",
            "\n"
          ]
        }
      ],
      "source": [
        "df.show()"
      ]
    },
    {
      "cell_type": "code",
      "execution_count": 17,
      "id": "f7d2a3f1",
      "metadata": {
        "colab": {
          "base_uri": "https://localhost:8080/"
        },
        "id": "f7d2a3f1",
        "outputId": "43e5f71f-424a-4439-827f-09b1ff969baa"
      },
      "outputs": [
        {
          "output_type": "stream",
          "name": "stdout",
          "text": [
            "root\n",
            " |-- _corrupt_record: string (nullable = true)\n",
            " |-- battery_level: long (nullable = true)\n",
            " |-- c02_level: long (nullable = true)\n",
            " |-- cca2: string (nullable = true)\n",
            " |-- cca3: string (nullable = true)\n",
            " |-- cn: string (nullable = true)\n",
            " |-- device_id: long (nullable = true)\n",
            " |-- device_name: string (nullable = true)\n",
            " |-- humidity: long (nullable = true)\n",
            " |-- ip: string (nullable = true)\n",
            " |-- latitude: double (nullable = true)\n",
            " |-- lcd: string (nullable = true)\n",
            " |-- longitude: double (nullable = true)\n",
            " |-- scale: string (nullable = true)\n",
            " |-- temp: long (nullable = true)\n",
            " |-- timestamp: long (nullable = true)\n",
            "\n"
          ]
        }
      ],
      "source": [
        "df.printSchema()"
      ]
    },
    {
      "cell_type": "code",
      "execution_count": 18,
      "id": "85622332",
      "metadata": {
        "colab": {
          "base_uri": "https://localhost:8080/"
        },
        "id": "85622332",
        "outputId": "93c5f05e-b079-4223-a70d-3dbe24b3af0f"
      },
      "outputs": [
        {
          "output_type": "stream",
          "name": "stdout",
          "text": [
            "+-----------------+-----------------+\n",
            "|               cn|Number_of_devices|\n",
            "+-----------------+-----------------+\n",
            "|    United States|            33441|\n",
            "|            China|             7096|\n",
            "|            Japan|             5921|\n",
            "|Republic of Korea|             5808|\n",
            "|          Germany|             3924|\n",
            "|   United Kingdom|             3209|\n",
            "|           Canada|             2955|\n",
            "|           Russia|             2917|\n",
            "|           France|             2564|\n",
            "|           Brazil|             1553|\n",
            "|        Australia|             1498|\n",
            "|            Italy|             1450|\n",
            "|           Sweden|             1414|\n",
            "|           Poland|             1321|\n",
            "|      Netherlands|             1234|\n",
            "|            Spain|             1109|\n",
            "|           Taiwan|             1045|\n",
            "|            India|              885|\n",
            "|                 |              872|\n",
            "|           Norway|              733|\n",
            "+-----------------+-----------------+\n",
            "only showing top 20 rows\n",
            "\n"
          ]
        }
      ],
      "source": [
        "# Creating a temporary view called iot\n",
        "df.createOrReplaceTempView(\"iot\")\n",
        "\n",
        "# Count how many devices are there from each country and display the output.\n",
        "spark.sql(\"SELECT cn, COUNT(DISTINCT device_id) as Number_of_devices FROM iot GROUP BY cn ORDER BY Number_of_devices DESC\").show()\n",
        ""
      ]
    },
    {
      "cell_type": "code",
      "execution_count": 19,
      "id": "2d914af4",
      "metadata": {
        "colab": {
          "base_uri": "https://localhost:8080/"
        },
        "id": "2d914af4",
        "outputId": "633af23c-174e-4136-ee52-d6201bede957"
      },
      "outputs": [
        {
          "output_type": "stream",
          "name": "stdout",
          "text": [
            "+--------------------+\n",
            "|                  cn|\n",
            "+--------------------+\n",
            "|   Republic of Korea|\n",
            "|              Poland|\n",
            "|       United States|\n",
            "|               Spain|\n",
            "|              Mexico|\n",
            "|       United States|\n",
            "|      United Kingdom|\n",
            "|               Japan|\n",
            "|               China|\n",
            "|             Germany|\n",
            "|       United States|\n",
            "|         Philippines|\n",
            "|               China|\n",
            "|              Canada|\n",
            "|       United States|\n",
            "|              Canada|\n",
            "|       United States|\n",
            "|       United States|\n",
            "|Saint Kitts and N...|\n",
            "|       United States|\n",
            "+--------------------+\n",
            "only showing top 20 rows\n",
            "\n"
          ]
        }
      ],
      "source": [
        "# All the countries whose carbon dioxide level is more than 1400. Sort the output in descending order.\n",
        "spark.sql(\"SELECT cn FROM iot WHERE c02_level > 1400 ORDER BY c02_level DESC\").show()\n",
        ""
      ]
    },
    {
      "cell_type": "code",
      "execution_count": 20,
      "id": "544982fd",
      "metadata": {
        "colab": {
          "base_uri": "https://localhost:8080/"
        },
        "id": "544982fd",
        "outputId": "d194012e-2225-464f-eecf-103314e09ec1"
      },
      "outputs": [
        {
          "output_type": "stream",
          "name": "stdout",
          "text": [
            "+--------------------+---------+----+\n",
            "|         device_name|device_id|cca3|\n",
            "+--------------------+---------+----+\n",
            "|   sensor-pad-2n2Pea|        2| NOR|\n",
            "| device-mac-36TWSKiT|        3| ITA|\n",
            "|sensor-pad-8xUD6p...|        8| JPN|\n",
            "|sensor-pad-10Bsyw...|       10| USA|\n",
            "|meter-gauge-11dlM...|       11| ITA|\n",
            "|sensor-pad-16aXmI...|       16| USA|\n",
            "|meter-gauge-17zb8...|       17| USA|\n",
            "|meter-gauge-19eg1...|       19| USA|\n",
            "|  sensor-pad-22oWV2D|       22| JPN|\n",
            "|sensor-pad-24Pytz...|       24| CAN|\n",
            "|  device-mac-27P5wf2|       27| KOR|\n",
            "|sensor-pad-28Tsud...|       28| KOR|\n",
            "|meter-gauge-47WsF9s8|       47| UKR|\n",
            "|meter-gauge-534fD...|       53| SWE|\n",
            "|sensor-pad-5410CW...|       54| USA|\n",
            "|device-mac-57tRB0...|       57| USA|\n",
            "|  sensor-pad-64djcIn|       64| USA|\n",
            "|sensor-pad-663dzo...|       66| CZE|\n",
            "|meter-gauge-77IKW...|       77| IND|\n",
            "|sensor-pad-78PkeI...|       78| KOR|\n",
            "+--------------------+---------+----+\n",
            "only showing top 20 rows\n",
            "\n"
          ]
        }
      ],
      "source": [
        "# Select all countries' devices with high-levels of C02 and group by cca3 and order by device_ids\n",
        "spark.sql(\"SELECT device_name,device_id,cca3 FROM iot WHERE lcd = 'red' GROUP BY device_name,device_id,cca3 ORDER BY device_id\").show()\n",
        ""
      ]
    },
    {
      "cell_type": "code",
      "execution_count": 21,
      "id": "a24b9fc5",
      "metadata": {
        "colab": {
          "base_uri": "https://localhost:8080/"
        },
        "id": "a24b9fc5",
        "outputId": "e5a5c1ba-5a5b-4fe8-bbd4-87902771fcee"
      },
      "outputs": [
        {
          "output_type": "stream",
          "name": "stdout",
          "text": [
            "+--------------------+---------+\n",
            "| Device_Battery_Dead|device_id|\n",
            "+--------------------+---------+\n",
            "|meter-gauge-1075K...|      107|\n",
            "|sensor-pad-354ztT...|      354|\n",
            "|device-mac-2757kb...|     2757|\n",
            "|meter-gauge-41092...|     4109|\n",
            "|therm-stick-5485e...|     5485|\n",
            "|sensor-pad-9038r8...|     9038|\n",
            "|sensor-pad-11448P...|    11448|\n",
            "|sensor-pad-12444M...|    12444|\n",
            "|sensor-pad-16942T...|    16942|\n",
            "|sensor-pad-180044...|    18004|\n",
            "|device-mac-18129q...|    18129|\n",
            "|sensor-pad-18532R...|    18532|\n",
            "|device-mac-217770...|    21777|\n",
            "|meter-gauge-26633...|    26633|\n",
            "|therm-stick-27155...|    27155|\n",
            "|device-mac-298713...|    29871|\n",
            "|meter-gauge-31123...|    31123|\n",
            "|meter-gauge-33119...|    33119|\n",
            "|device-mac-37143D...|    37143|\n",
            "|meter-gauge-40673...|    40673|\n",
            "+--------------------+---------+\n",
            "only showing top 20 rows\n",
            "\n"
          ]
        }
      ],
      "source": [
        "# All devices in countries whose batteries need replacements.\n",
        "spark.sql(\"SELECT device_name as Device_Battery_Dead, device_id FROM iot WHERE battery_level = 0 GROUP BY Device_Battery_Dead, device_id\").show()\n",
        ""
      ]
    },
    {
      "cell_type": "code",
      "execution_count": null,
      "id": "14d318f5",
      "metadata": {
        "id": "14d318f5"
      },
      "outputs": [],
      "source": []
    }
  ],
  "metadata": {
    "kernelspec": {
      "display_name": "Python 3 (ipykernel)",
      "language": "python",
      "name": "python3"
    },
    "language_info": {
      "codemirror_mode": {
        "name": "ipython",
        "version": 3
      },
      "file_extension": ".py",
      "mimetype": "text/x-python",
      "name": "python",
      "nbconvert_exporter": "python",
      "pygments_lexer": "ipython3",
      "version": "3.11.5"
    },
    "colab": {
      "provenance": [],
      "include_colab_link": true
    }
  },
  "nbformat": 4,
  "nbformat_minor": 5
}